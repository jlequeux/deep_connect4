{
 "cells": [
  {
   "cell_type": "code",
   "execution_count": 221,
   "metadata": {},
   "outputs": [],
   "source": [
    "import numpy as np\n",
    "import matplotlib.pyplot as plt\n",
    "from matplotlib.colors import LinearSegmentedColormap\n",
    "import random\n",
    "import sys\n",
    "import time\n",
    "% matplotlib inline"
   ]
  },
  {
   "cell_type": "code",
   "execution_count": 5,
   "metadata": {},
   "outputs": [],
   "source": [
    "# define game\n",
    "# apply action on game\n",
    "# check if finished"
   ]
  },
  {
   "cell_type": "code",
   "execution_count": 60,
   "metadata": {},
   "outputs": [],
   "source": [
    "# define game board\n",
    "size = (6, 7)\n",
    "game = np.zeros(size)"
   ]
  },
  {
   "cell_type": "code",
   "execution_count": 80,
   "metadata": {},
   "outputs": [],
   "source": [
    "# apply action on game\n",
    "def apply_action(game, player, action):\n",
    "    \"\"\"\n",
    "    'game': np.array: the current board\n",
    "    'action': int, the column to be played (0 to N)\n",
    "    'player': int, 1 or 2\"\"\"\n",
    "    \n",
    "    for i in range(game.shape[0]):\n",
    "        if game[i, action] != 0:\n",
    "            continue\n",
    "        game[i, action] = player\n",
    "        return game\n",
    "    return False  # false action, the column is full"
   ]
  },
  {
   "cell_type": "code",
   "execution_count": 161,
   "metadata": {},
   "outputs": [],
   "source": [
    "def check_line(line, player):\n",
    "    #idx = np.where(line==player)\n",
    "    count = 0\n",
    "    target = 4\n",
    "    for i in range(len(line)):\n",
    "        if line[i] == player:\n",
    "            count+=1\n",
    "        else:\n",
    "            count=0\n",
    "        if count>=target:\n",
    "            return True\n",
    "    return False"
   ]
  },
  {
   "cell_type": "code",
   "execution_count": 162,
   "metadata": {},
   "outputs": [],
   "source": [
    "def is_won(game, player):\n",
    "    target = 4\n",
    "    # check columns\n",
    "    for col in game.T:\n",
    "        if check_line(col, player):\n",
    "            return True\n",
    "    # check lines\n",
    "    for line in game:\n",
    "        if check_line(line, player):\n",
    "            return True\n",
    "    # check diagonals\n",
    "    for i in range(game.shape[0]-target+1):\n",
    "        for j in range(game.shape[1]-target+1):\n",
    "            if check_line(np.diag(game[i:i+target, j:j+target]), player):\n",
    "                return True\n",
    "            if check_line(np.diag(np.flip(game[i:i+target, j:j+target], 0)), player):\n",
    "                return True\n",
    "    return False"
   ]
  },
  {
   "cell_type": "code",
   "execution_count": 245,
   "metadata": {},
   "outputs": [],
   "source": [
    "def choose_action(game, q_table, method='rand'):\n",
    "    if method=='rand':\n",
    "        return random.randint(0, 6)"
   ]
  },
  {
   "cell_type": "code",
   "execution_count": 258,
   "metadata": {},
   "outputs": [],
   "source": [
    "def is_finished(game):\n",
    "    return not (game==0).any()"
   ]
  },
  {
   "cell_type": "code",
   "execution_count": 268,
   "metadata": {},
   "outputs": [],
   "source": [
    "def play_game(size):\n",
    "    \n",
    "    # init game\n",
    "    game = np.zeros(size)\n",
    "    \n",
    "    with open('/data/game/connect4_q_table.pkl', 'rb') as pklfile:\n",
    "        q_table = pickle.load(pklfile)\n",
    "    q_table_1 = q_table\n",
    "    q_table_2 = q_table\n",
    "    \n",
    "    while not is_finished(game):\n",
    "        # player 1\n",
    "        action_1 = choose_action(game, q_table_1)\n",
    "        res = False\n",
    "        while res is False:\n",
    "            res = apply_action(game, 1, action_1)\n",
    "        game = res   \n",
    "        \n",
    "        if is_won(game, 1):\n",
    "            print('Player 1 (white) won !')\n",
    "            plt.pcolor(game, linewidths=2, edgecolors='k', cmap='bwr')\n",
    "            return\n",
    "        \n",
    "        # player 2\n",
    "        action_2 = choose_action(game, q_table_2)\n",
    "        res = False\n",
    "        while res is False:\n",
    "            res = apply_action(game, 2, action_2)\n",
    "        game = res\n",
    "        \n",
    "        if is_won(game, 2):\n",
    "            print('Player 2 (red) won !')\n",
    "            plt.pcolor(game, linewidths=2, edgecolors='k', cmap='bwr')\n",
    "            return\n",
    "    print('draw')\n",
    "    plt.pcolor(game, linewidths=2, edgecolors='k', cmap='bwr')"
   ]
  },
  {
   "cell_type": "code",
   "execution_count": 273,
   "metadata": {},
   "outputs": [
    {
     "data": {
      "text/plain": [
       "False"
      ]
     },
     "execution_count": 273,
     "metadata": {},
     "output_type": "execute_result"
    }
   ],
   "source": []
  },
  {
   "cell_type": "code",
   "execution_count": 275,
   "metadata": {},
   "outputs": [
    {
     "name": "stdout",
     "output_type": "stream",
     "text": [
      "Player 2 (red) won !\n"
     ]
    },
    {
     "data": {
      "image/png": "[encoded data removed]",
      "text/plain": [
       "<Figure size 432x288 with 1 Axes>"
      ]
     },
     "metadata": {},
     "output_type": "display_data"
    }
   ],
   "source": [
    "play_game((6, 7))"
   ]
  },
  {
   "cell_type": "code",
   "execution_count": null,
   "metadata": {},
   "outputs": [],
   "source": []
  },
  {
   "cell_type": "code",
   "execution_count": null,
   "metadata": {},
   "outputs": [],
   "source": []
  },
  {
   "cell_type": "code",
   "execution_count": 159,
   "metadata": {},
   "outputs": [
    {
     "name": "stdout",
     "output_type": "stream",
     "text": [
      "player 2 won\n"
     ]
    },
    {
     "data": {
      "image/png": "[encoded data removed]",
      "text/plain": [
       "<Figure size 432x288 with 1 Axes>"
      ]
     },
     "metadata": {},
     "output_type": "display_data"
    }
   ],
   "source": [
    "if apply_action(game, 2, 5) is False:\n",
    "    print('error, column full')\n",
    "else:\n",
    "    plt.pcolor(game, linewidths=2, edgecolors='k', cmap='bwr')\n",
    "if is_won(game, 1):\n",
    "    print('player 1 won')\n",
    "if is_won(game, 2):\n",
    "    print('player 2 won')"
   ]
  },
  {
   "cell_type": "code",
   "execution_count": 160,
   "metadata": {},
   "outputs": [],
   "source": [
    "game[3, 5] = 1"
   ]
  },
  {
   "cell_type": "code",
   "execution_count": null,
   "metadata": {},
   "outputs": [],
   "source": []
  },
  {
   "cell_type": "markdown",
   "metadata": {},
   "source": [
    "# build q table"
   ]
  },
  {
   "cell_type": "code",
   "execution_count": 240,
   "metadata": {},
   "outputs": [],
   "source": [
    "size = (6, 7)\n",
    "nbr_move = size[0]*size[1]\n",
    "q_table = np.expand_dims(np.zeros(size), 0) # init with empty game\n",
    "new_game= np.zeros(size)"
   ]
  },
  {
   "cell_type": "code",
   "execution_count": 236,
   "metadata": {},
   "outputs": [],
   "source": [
    "def game_in_q(q, game):\n",
    "    for g in q:\n",
    "        if np.equal(g, game).all():\n",
    "            return True\n",
    "    return False    "
   ]
  },
  {
   "cell_type": "code",
   "execution_count": 239,
   "metadata": {},
   "outputs": [],
   "source": [
    "\n",
    "if new_game is False:\n",
    "    print('yay')"
   ]
  },
  {
   "cell_type": "code",
   "execution_count": 244,
   "metadata": {},
   "outputs": [
    {
     "name": "stdout",
     "output_type": "stream",
     "text": [
      "(6921, 6, 7)\n"
     ]
    }
   ],
   "source": [
    "for i in range(100000000):\n",
    "    res = apply_action(new_game, i%2+1, random.randint(0, 6))\n",
    "    \n",
    "    if res is False:\n",
    "        continue\n",
    "    new_game = res\n",
    "    \n",
    "    if is_won(new_game, 1) or is_won(new_game, 2):\n",
    "        new_game = np.zeros(size)\n",
    "        \n",
    "    if not game_in_q(q_table, new_game):\n",
    "        q_table = np.append(q_table, np.expand_dims(new_game, 0), axis=0)\n",
    "print(q_table.shape)"
   ]
  },
  {
   "cell_type": "code",
   "execution_count": 242,
   "metadata": {},
   "outputs": [],
   "source": [
    "saved_q_table = q_table"
   ]
  },
  {
   "cell_type": "code",
   "execution_count": 243,
   "metadata": {},
   "outputs": [
    {
     "data": {
      "text/plain": [
       "(6921, 6, 7)"
      ]
     },
     "execution_count": 243,
     "metadata": {},
     "output_type": "execute_result"
    }
   ],
   "source": [
    "saved_q_table.shape "
   ]
  },
  {
   "cell_type": "code",
   "execution_count": 203,
   "metadata": {},
   "outputs": [
    {
     "data": {
      "text/plain": [
       "True"
      ]
     },
     "execution_count": 203,
     "metadata": {},
     "output_type": "execute_result"
    }
   ],
   "source": [
    "game_in_q(q_table, np.zeros(size))"
   ]
  },
  {
   "cell_type": "code",
   "execution_count": 247,
   "metadata": {},
   "outputs": [],
   "source": [
    "import pickle"
   ]
  },
  {
   "cell_type": "code",
   "execution_count": 252,
   "metadata": {},
   "outputs": [
    {
     "name": "stdout",
     "output_type": "stream",
     "text": [
      "(6921, 6, 7)\n"
     ]
    }
   ],
   "source": [
    "with open('/data/game/connect4_q_table.pkl', 'br') as pklfile:\n",
    "    a = pickle.load(pklfile)\n",
    "print(a.shape)"
   ]
  },
  {
   "cell_type": "code",
   "execution_count": null,
   "metadata": {},
   "outputs": [],
   "source": []
  }
 ],
 "metadata": {
  "kernelspec": {
   "display_name": "Python 3",
   "language": "python",
   "name": "python3"
  },
  "language_info": {
   "codemirror_mode": {
    "name": "ipython",
    "version": 3
   },
   "file_extension": ".py",
   "mimetype": "text/x-python",
   "name": "python",
   "nbconvert_exporter": "python",
   "pygments_lexer": "ipython3",
   "version": "3.5.2"
  }
 },
 "nbformat": 4,
 "nbformat_minor": 2
}
